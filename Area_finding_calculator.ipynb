{
  "nbformat": 4,
  "nbformat_minor": 0,
  "metadata": {
    "colab": {
      "provenance": [],
      "authorship_tag": "ABX9TyN+WTxBiUF6/MKn13RRDp5I",
      "include_colab_link": true
    },
    "kernelspec": {
      "name": "python3",
      "display_name": "Python 3"
    },
    "language_info": {
      "name": "python"
    }
  },
  "cells": [
    {
      "cell_type": "markdown",
      "metadata": {
        "id": "view-in-github",
        "colab_type": "text"
      },
      "source": [
        "<a href=\"https://colab.research.google.com/github/Imran25git/Practice-projects/blob/My-Codes/Area_finding_calculator.ipynb\" target=\"_parent\"><img src=\"https://colab.research.google.com/assets/colab-badge.svg\" alt=\"Open In Colab\"/></a>"
      ]
    },
    {
      "cell_type": "code",
      "source": [
        "# Area Calculator Code\n",
        "\n",
        "find_area = input(\"Enter your need to find area of (rectangle, triangle, circle, square): \").lower()\n",
        "\n",
        "if (find_area == \"rectangle\"):\n",
        "# Area of Rectangle\n",
        "  length = float(input(\"Enter length of rectangle in meters: \"))\n",
        "  width  = float(input(\"Enter width of rectangle in meters: \"))\n",
        "  area = length*width\n",
        "  round_area = round(area,3)\n",
        "  print(\"Area of rectangle: \",round_area,\"m²\")\n",
        "\n",
        "elif (find_area == \"triangle\"):\n",
        "# Area of Triangle\n",
        "  height = float(input(\"Enter height of triangle in meters: \"))\n",
        "  base  = float(input(\"Enter base of triangle in meters: \"))\n",
        "  area = 0.5*base*height\n",
        "  round_area = round(area,3)\n",
        "  print(\"Area of triangle: \",round_area,\"m²\")\n",
        "\n",
        "elif (find_area == \"circle\"):\n",
        "  radius = float(input(\"Enter radius of circle in meters: \"))\n",
        "  area = 3.142*(pow(radius,2))\n",
        "  round_area = round(area,3)\n",
        "  print(\"Area of circle: \",round_area,\"m²\")\n",
        "\n",
        "elif (find_area == \"square\"):\n",
        "  side = float(input(\"Enter side of square in meters: \"))\n",
        "  area = pow(side,2)\n",
        "  round_area = round(area,3)\n",
        "  print(\"Area of square: \",round_area,\"m²\")\n",
        "\n",
        "else:\n",
        "  print(\"Something went wrong try it again. Check shape you enter!!!\")"
      ],
      "metadata": {
        "id": "kTleIPbNogPD"
      },
      "execution_count": null,
      "outputs": []
    }
  ]
}